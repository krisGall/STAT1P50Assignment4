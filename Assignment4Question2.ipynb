{
 "cells": [
  {
   "cell_type": "markdown",
   "id": "e33e73cf",
   "metadata": {},
   "source": [
    "Model without using ReLU"
   ]
  },
  {
   "cell_type": "code",
   "execution_count": 7,
   "id": "954379e9",
   "metadata": {},
   "outputs": [
    {
     "name": "stdout",
     "output_type": "stream",
     "text": [
      "Epoch 1/10\n",
      "10/10 [==============================] - 0s 4ms/step - loss: 0.3743\n",
      "Epoch 2/10\n",
      "10/10 [==============================] - 0s 3ms/step - loss: 0.3340\n",
      "Epoch 3/10\n",
      "10/10 [==============================] - 0s 3ms/step - loss: 0.3011\n",
      "Epoch 4/10\n",
      "10/10 [==============================] - 0s 3ms/step - loss: 0.2715\n",
      "Epoch 5/10\n",
      " 1/10 [==>...........................] - ETA: 0s - loss: 0.2941"
     ]
    },
    {
     "name": "stderr",
     "output_type": "stream",
     "text": [
      "2022-11-22 16:13:15.183223: I tensorflow/core/grappler/optimizers/custom_graph_optimizer_registry.cc:114] Plugin optimizer for device_type GPU is enabled.\n"
     ]
    },
    {
     "name": "stdout",
     "output_type": "stream",
     "text": [
      "10/10 [==============================] - 0s 3ms/step - loss: 0.2462\n",
      "Epoch 6/10\n",
      "10/10 [==============================] - 0s 3ms/step - loss: 0.2257\n",
      "Epoch 7/10\n",
      "10/10 [==============================] - 0s 3ms/step - loss: 0.2082\n",
      "Epoch 8/10\n",
      "10/10 [==============================] - 0s 3ms/step - loss: 0.1942\n",
      "Epoch 9/10\n",
      "10/10 [==============================] - 0s 3ms/step - loss: 0.1841\n",
      "Epoch 10/10\n",
      "10/10 [==============================] - 0s 3ms/step - loss: 0.1778\n"
     ]
    },
    {
     "data": {
      "text/plain": [
       "<keras.callbacks.History at 0x28c691b70>"
      ]
     },
     "execution_count": 7,
     "metadata": {},
     "output_type": "execute_result"
    }
   ],
   "source": [
    "from sklearn.preprocessing import MinMaxScaler\n",
    "from sklearn.datasets import load_diabetes\n",
    "import tensorflow as tf\n",
    "from tensorflow.keras.models import Sequential\n",
    "from tensorflow.keras.layers import Dense, InputLayer\n",
    "from sklearn.model_selection import train_test_split\n",
    "\n",
    "diabetes = load_diabetes()\n",
    "X = diabetes.data\n",
    "y = diabetes.target\n",
    "\n",
    "scaler = MinMaxScaler()\n",
    "y = y.reshape(-1,1)\n",
    "y = scaler.fit_transform(y)\n",
    "\n",
    "X_train, X_test, y_train, y_test = train_test_split(X, y, test_size = 0.30)\n",
    "\n",
    "# Defining Model\n",
    "tf.random.set_seed(1)\n",
    "model = Sequential()\n",
    "\n",
    "# Adding layers\n",
    "input_layer = InputLayer(input_shape=(10,))\n",
    "model.add(input_layer)\n",
    "hidden_layer = Dense(8)\n",
    "model.add(hidden_layer)\n",
    "output_layer = Dense(1)\n",
    "model.add(output_layer)\n",
    "\n",
    "# Compiling error\n",
    "model.compile(loss = 'mean_absolute_error')\n",
    "\n",
    "# Fitting model\n",
    "model.fit(X_train, y_train, epochs = 10)"
   ]
  },
  {
   "cell_type": "markdown",
   "id": "4a4ad340",
   "metadata": {},
   "source": [
    "Model using ReLU"
   ]
  },
  {
   "cell_type": "code",
   "execution_count": 8,
   "id": "c70cc1df",
   "metadata": {},
   "outputs": [
    {
     "name": "stdout",
     "output_type": "stream",
     "text": [
      "Epoch 1/10\n",
      "10/10 [==============================] - 0s 4ms/step - loss: 0.3404\n",
      "Epoch 2/10\n",
      "10/10 [==============================] - 0s 3ms/step - loss: 0.2879\n",
      "Epoch 3/10\n",
      "10/10 [==============================] - 0s 3ms/step - loss: 0.2446\n",
      "Epoch 4/10\n",
      "10/10 [==============================] - 0s 3ms/step - loss: 0.2107\n",
      "Epoch 5/10\n",
      " 1/10 [==>...........................] - ETA: 0s - loss: 0.1950"
     ]
    },
    {
     "name": "stderr",
     "output_type": "stream",
     "text": [
      "2022-11-22 16:13:15.726876: I tensorflow/core/grappler/optimizers/custom_graph_optimizer_registry.cc:114] Plugin optimizer for device_type GPU is enabled.\n"
     ]
    },
    {
     "name": "stdout",
     "output_type": "stream",
     "text": [
      "10/10 [==============================] - 0s 3ms/step - loss: 0.1876\n",
      "Epoch 6/10\n",
      "10/10 [==============================] - 0s 3ms/step - loss: 0.1718\n",
      "Epoch 7/10\n",
      "10/10 [==============================] - 0s 3ms/step - loss: 0.1605\n",
      "Epoch 8/10\n",
      "10/10 [==============================] - 0s 3ms/step - loss: 0.1535\n",
      "Epoch 9/10\n",
      "10/10 [==============================] - 0s 3ms/step - loss: 0.1499\n",
      "Epoch 10/10\n",
      "10/10 [==============================] - 0s 3ms/step - loss: 0.1477\n"
     ]
    },
    {
     "data": {
      "text/plain": [
       "<keras.callbacks.History at 0x286a02650>"
      ]
     },
     "execution_count": 8,
     "metadata": {},
     "output_type": "execute_result"
    }
   ],
   "source": [
    "from sklearn.preprocessing import MinMaxScaler\n",
    "from sklearn.datasets import load_diabetes\n",
    "import tensorflow as tf\n",
    "from tensorflow.keras.models import Sequential\n",
    "from tensorflow.keras.layers import Dense, InputLayer\n",
    "\n",
    "diabetes = load_diabetes()\n",
    "X = diabetes.data\n",
    "y = diabetes.target\n",
    "\n",
    "scaler = MinMaxScaler()\n",
    "y = y.reshape(-1,1)\n",
    "y = scaler.fit_transform(y)\n",
    "\n",
    "X_train, X_test, y_train, y_test = train_test_split(X, y, test_size = 0.30)\n",
    "\n",
    "# Defining Model\n",
    "tf.random.set_seed(1)\n",
    "model = Sequential()\n",
    "\n",
    "# Adding layers\n",
    "input_layer = InputLayer(input_shape=(10,))\n",
    "model.add(input_layer)\n",
    "hidden_layer = Dense(8)\n",
    "model.add(hidden_layer)\n",
    "output_layer = Dense(1, activation='ReLU')\n",
    "model.add(output_layer)\n",
    "\n",
    "# Compiling error\n",
    "model.compile(loss = 'mean_absolute_error')\n",
    "\n",
    "# Fitting model\n",
    "model.fit(X_train, y_train, epochs = 10)"
   ]
  },
  {
   "cell_type": "markdown",
   "id": "0d720c5d",
   "metadata": {},
   "source": [
    "2) ReLU sets all negative values to 0 and keeps all other values constant. Therefore, it is useable in this context becauase blood values should not be negative."
   ]
  },
  {
   "cell_type": "markdown",
   "id": "5f18dd4b",
   "metadata": {},
   "source": [
    "3. The loss gets lower after adding a relu activation function on the testing set."
   ]
  },
  {
   "cell_type": "code",
   "execution_count": null,
   "id": "275f415a",
   "metadata": {},
   "outputs": [],
   "source": []
  }
 ],
 "metadata": {
  "kernelspec": {
   "display_name": "Python 3 (ipykernel)",
   "language": "python",
   "name": "python3"
  },
  "language_info": {
   "codemirror_mode": {
    "name": "ipython",
    "version": 3
   },
   "file_extension": ".py",
   "mimetype": "text/x-python",
   "name": "python",
   "nbconvert_exporter": "python",
   "pygments_lexer": "ipython3",
   "version": "3.10.6"
  }
 },
 "nbformat": 4,
 "nbformat_minor": 5
}
