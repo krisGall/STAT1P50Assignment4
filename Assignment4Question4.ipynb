{
 "cells": [
  {
   "cell_type": "code",
   "execution_count": 57,
   "id": "2f68e4a2",
   "metadata": {},
   "outputs": [
    {
     "name": "stdout",
     "output_type": "stream",
     "text": [
      "Epoch 1/10\n",
      "  29/1875 [..............................] - ETA: 6s - loss: 7.2152 - accuracy: 0.1293"
     ]
    },
    {
     "name": "stderr",
     "output_type": "stream",
     "text": [
      "2022-11-23 10:31:40.945354: I tensorflow/core/grappler/optimizers/custom_graph_optimizer_registry.cc:114] Plugin optimizer for device_type GPU is enabled.\n"
     ]
    },
    {
     "name": "stdout",
     "output_type": "stream",
     "text": [
      "1875/1875 [==============================] - 7s 4ms/step - loss: 8.1916 - accuracy: 0.1042\n",
      "Epoch 2/10\n",
      "1875/1875 [==============================] - 6s 3ms/step - loss: 7.7288 - accuracy: 0.0835\n",
      "Epoch 3/10\n",
      "1875/1875 [==============================] - 6s 3ms/step - loss: 8.2106 - accuracy: 0.1040\n",
      "Epoch 4/10\n",
      "1875/1875 [==============================] - 6s 3ms/step - loss: 8.3201 - accuracy: 0.0976\n",
      "Epoch 5/10\n",
      "1875/1875 [==============================] - 6s 3ms/step - loss: 8.2582 - accuracy: 0.0978\n",
      "Epoch 6/10\n",
      "1875/1875 [==============================] - 6s 3ms/step - loss: 8.6821 - accuracy: 0.0986\n",
      "Epoch 7/10\n",
      "1875/1875 [==============================] - 6s 3ms/step - loss: 8.5643 - accuracy: 0.0985\n",
      "Epoch 8/10\n",
      "1875/1875 [==============================] - 6s 3ms/step - loss: 9.0631 - accuracy: 0.0997\n",
      "Epoch 9/10\n",
      "1875/1875 [==============================] - 6s 3ms/step - loss: 8.4706 - accuracy: 0.0986\n",
      "Epoch 10/10\n",
      "1875/1875 [==============================] - 6s 3ms/step - loss: 8.2630e-08 - accuracy: 0.0987\n"
     ]
    }
   ],
   "source": [
    "import tensorflow as tf\n",
    "from tensorflow.keras.models import Sequential\n",
    "from tensorflow.keras.layers import Dense, InputLayer\n",
    "from tensorflow.keras.datasets import mnist\n",
    "from tensorflow.keras.utils import to_categorical\n",
    "\n",
    "# load dataset\n",
    "(X_train, y_train), (X_test, y_test) = mnist.load_data()\n",
    "number_of_training_instances = X_train.shape[0]\n",
    "number_of_testing_instances = X_test.shape[0]\n",
    "\n",
    "# reshape dataset\n",
    "X_train = X_train.reshape((number_of_training_instances, 28*28))\n",
    "X_test = X_test.reshape((number_of_testing_instances, 28*28))\n",
    "\n",
    "# Changing y data to categorical\n",
    "y_train = to_categorical(y_train)\n",
    "y_test = to_categorical(y_test)\n",
    "\n",
    "# Loading model\n",
    "tf.random.set_seed(1)\n",
    "model = Sequential()\n",
    "\n",
    "# Creating model\n",
    "input_layer = InputLayer(input_shape=(784,))\n",
    "model.add(input_layer)\n",
    "hidden_layer = Dense(5)\n",
    "model.add(hidden_layer)\n",
    "output_layer = Dense(10)\n",
    "model.add(output_layer)\n",
    "\n",
    "# Compiling and fitting\n",
    "model.compile(loss = 'categorical_crossentropy', metrics = ['accuracy'])\n",
    "model.fit(X_train, y_train, epochs = 10)\n",
    "\n",
    "# Saving model\n",
    "model.save('digits_model.h5')"
   ]
  },
  {
   "cell_type": "code",
   "execution_count": null,
   "id": "7236d92d",
   "metadata": {},
   "outputs": [],
   "source": []
  }
 ],
 "metadata": {
  "kernelspec": {
   "display_name": "Python 3 (ipykernel)",
   "language": "python",
   "name": "python3"
  },
  "language_info": {
   "codemirror_mode": {
    "name": "ipython",
    "version": 3
   },
   "file_extension": ".py",
   "mimetype": "text/x-python",
   "name": "python",
   "nbconvert_exporter": "python",
   "pygments_lexer": "ipython3",
   "version": "3.10.6"
  }
 },
 "nbformat": 4,
 "nbformat_minor": 5
}
