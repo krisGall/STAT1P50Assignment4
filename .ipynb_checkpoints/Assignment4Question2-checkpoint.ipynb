{
 "cells": [
  {
   "cell_type": "code",
   "execution_count": 14,
   "id": "954379e9",
   "metadata": {},
   "outputs": [
    {
     "name": "stdout",
     "output_type": "stream",
     "text": [
      "Epoch 1/10\n"
     ]
    },
    {
     "name": "stderr",
     "output_type": "stream",
     "text": [
      "2022-11-21 10:41:47.218533: W tensorflow/core/platform/profile_utils/cpu_utils.cc:128] Failed to get CPU frequency: 0 Hz\n",
      "2022-11-21 10:41:47.376507: I tensorflow/core/grappler/optimizers/custom_graph_optimizer_registry.cc:114] Plugin optimizer for device_type GPU is enabled.\n"
     ]
    },
    {
     "name": "stdout",
     "output_type": "stream",
     "text": [
      "14/14 [==============================] - 1s 12ms/step - loss: 0.3430\n",
      "Epoch 2/10\n",
      "14/14 [==============================] - 0s 3ms/step - loss: 0.2788\n",
      "Epoch 3/10\n",
      "14/14 [==============================] - 0s 3ms/step - loss: 0.2381\n",
      "Epoch 4/10\n",
      "14/14 [==============================] - 0s 3ms/step - loss: 0.2131\n",
      "Epoch 5/10\n",
      "14/14 [==============================] - 0s 3ms/step - loss: 0.1990\n",
      "Epoch 6/10\n",
      "14/14 [==============================] - 0s 3ms/step - loss: 0.1912\n",
      "Epoch 7/10\n",
      "14/14 [==============================] - 0s 3ms/step - loss: 0.1863\n",
      "Epoch 8/10\n",
      "14/14 [==============================] - 0s 3ms/step - loss: 0.1819\n",
      "Epoch 9/10\n",
      "14/14 [==============================] - 0s 3ms/step - loss: 0.1781\n",
      "Epoch 10/10\n",
      "14/14 [==============================] - 0s 3ms/step - loss: 0.1751\n"
     ]
    },
    {
     "data": {
      "text/plain": [
       "<keras.callbacks.History at 0x2821211e0>"
      ]
     },
     "execution_count": 14,
     "metadata": {},
     "output_type": "execute_result"
    }
   ],
   "source": [
    "from sklearn.preprocessing import MinMaxScaler\n",
    "from sklearn.datasets import load_diabetes\n",
    "import tensorflow as tf\n",
    "from tensorflow.keras.models import Sequential\n",
    "from tensorflow.keras.layers import Dense, InputLayer\n",
    "\n",
    "diabetes = load_diabetes()\n",
    "X = diabetes.data\n",
    "y = diabetes.target\n",
    "\n",
    "scaler = MinMaxScaler()\n",
    "y = y.reshape(-1,1)\n",
    "y = scaler.fit_transform(y)\n",
    "\n",
    "# Defining Model\n",
    "tf.random.set_seed(1)\n",
    "model = Sequential()\n",
    "\n",
    "# Adding layers\n",
    "input_layer = InputLayer(input_shape=(10,))\n",
    "model.add(input_layer)\n",
    "hidden_layer = Dense(8)\n",
    "model.add(hidden_layer)\n",
    "output_layer = Dense(1)\n",
    "model.add(output_layer)\n",
    "\n",
    "# Compiling error\n",
    "model.compile(loss = 'mean_absolute_error')\n",
    "\n",
    "# Fitting model\n",
    "model.fit(X, y, epochs = 10)"
   ]
  },
  {
   "cell_type": "code",
   "execution_count": 20,
   "id": "c70cc1df",
   "metadata": {},
   "outputs": [
    {
     "name": "stdout",
     "output_type": "stream",
     "text": [
      "Epoch 1/10\n",
      "14/14 [==============================] - 0s 4ms/step - loss: 0.3492\n",
      "Epoch 2/10\n",
      "14/14 [==============================] - 0s 3ms/step - loss: 0.2864\n",
      "Epoch 3/10\n",
      "14/14 [==============================] - 0s 3ms/step - loss: 0.2417\n",
      "Epoch 4/10\n",
      " 1/14 [=>............................] - ETA: 0s - loss: 0.2565"
     ]
    },
    {
     "name": "stderr",
     "output_type": "stream",
     "text": [
      "2022-11-21 10:58:53.819832: I tensorflow/core/grappler/optimizers/custom_graph_optimizer_registry.cc:114] Plugin optimizer for device_type GPU is enabled.\n"
     ]
    },
    {
     "name": "stdout",
     "output_type": "stream",
     "text": [
      "14/14 [==============================] - 0s 3ms/step - loss: 0.2129\n",
      "Epoch 5/10\n",
      "14/14 [==============================] - 0s 3ms/step - loss: 0.1946\n",
      "Epoch 6/10\n",
      "14/14 [==============================] - 0s 3ms/step - loss: 0.1847\n",
      "Epoch 7/10\n",
      "14/14 [==============================] - 0s 3ms/step - loss: 0.1790\n",
      "Epoch 8/10\n",
      "14/14 [==============================] - 0s 3ms/step - loss: 0.1749\n",
      "Epoch 9/10\n",
      "14/14 [==============================] - 0s 3ms/step - loss: 0.1718\n",
      "Epoch 10/10\n",
      "14/14 [==============================] - 0s 3ms/step - loss: 0.1690\n"
     ]
    },
    {
     "data": {
      "text/plain": [
       "<keras.callbacks.History at 0x284613b20>"
      ]
     },
     "execution_count": 20,
     "metadata": {},
     "output_type": "execute_result"
    }
   ],
   "source": [
    "from sklearn.preprocessing import MinMaxScaler\n",
    "from sklearn.datasets import load_diabetes\n",
    "import tensorflow as tf\n",
    "from tensorflow.keras.models import Sequential\n",
    "from tensorflow.keras.layers import Dense, InputLayer\n",
    "\n",
    "diabetes = load_diabetes()\n",
    "X = diabetes.data\n",
    "y = diabetes.target\n",
    "\n",
    "scaler = MinMaxScaler()\n",
    "y = y.reshape(-1,1)\n",
    "y = scaler.fit_transform(y)\n",
    "\n",
    "# Defining Model\n",
    "tf.random.set_seed(1)\n",
    "model = Sequential()\n",
    "\n",
    "# Adding layers\n",
    "input_layer = InputLayer(input_shape=(10,))\n",
    "model.add(input_layer)\n",
    "hidden_layer = Dense(8)\n",
    "model.add(hidden_layer)\n",
    "output_layer = Dense(1)\n",
    "tf.keras.activations.relu(X)\n",
    "model.add(output_layer)\n",
    "\n",
    "# Compiling error\n",
    "model.compile(loss = 'mean_absolute_error')\n",
    "\n",
    "# Fitting model\n",
    "model.fit(X, y, epochs = 10)"
   ]
  },
  {
   "cell_type": "markdown",
   "id": "0d720c5d",
   "metadata": {},
   "source": [
    "2) ReLU sets all negative values to 0 and keeps all other values constant. Therefore, it is useable in this context becauase blood values should not be negative."
   ]
  },
  {
   "cell_type": "markdown",
   "id": "5f18dd4b",
   "metadata": {},
   "source": [
    "3. The loss gets lower after adding a relu activation function on the testing set."
   ]
  },
  {
   "cell_type": "code",
   "execution_count": null,
   "id": "275f415a",
   "metadata": {},
   "outputs": [],
   "source": []
  }
 ],
 "metadata": {
  "kernelspec": {
   "display_name": "Python 3 (ipykernel)",
   "language": "python",
   "name": "python3"
  },
  "language_info": {
   "codemirror_mode": {
    "name": "ipython",
    "version": 3
   },
   "file_extension": ".py",
   "mimetype": "text/x-python",
   "name": "python",
   "nbconvert_exporter": "python",
   "pygments_lexer": "ipython3",
   "version": "3.10.6"
  }
 },
 "nbformat": 4,
 "nbformat_minor": 5
}
